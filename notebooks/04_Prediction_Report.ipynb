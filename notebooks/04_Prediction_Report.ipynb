{
  "cells": [
    {
      "cell_type": "markdown",
      "metadata": {},
      "source": [
        "# 04 – Prediction & Report\n",
        "\n",
        "Objective: Use best model to predict EV counts by city for a target year; report accuracy and top 10 cities by density proxy.\n",
        "\n",
        "Inputs: `models/best_model.pkl`, `data/processed/model_ready_city_ev.csv`, `data/processed/city_ev_agg.csv`, `data/processed/model_eval.csv`\n",
        "Outputs: figures/tables in-notebook\n"
      ]
    },
    {
      "cell_type": "code",
      "execution_count": 1,
      "metadata": {},
      "outputs": [],
      "source": [
        "import pandas as pd\n",
        "import numpy as np\n",
        "import matplotlib.pyplot as plt\n",
        "from pathlib import Path\n",
        "import joblib\n"
      ]
    },
    {
      "cell_type": "code",
      "execution_count": 2,
      "metadata": {},
      "outputs": [
        {
          "name": "stdout",
          "output_type": "stream",
          "text": [
            "Current directory: e:\\FDM\\PROJECT\\NEW\\Smart-Charge-Locator\\notebooks\n",
            "Base directory: e:\\FDM\\PROJECT\\NEW\\Smart-Charge-Locator\n",
            "Required files found:\n",
            "  - Model: e:\\FDM\\PROJECT\\NEW\\Smart-Charge-Locator\\models\\best_model.pkl (True)\n",
            "  - Features: e:\\FDM\\PROJECT\\NEW\\Smart-Charge-Locator\\data\\processed\\model_ready_city_ev.csv (True)\n",
            "  - Aggregated: e:\\FDM\\PROJECT\\NEW\\Smart-Charge-Locator\\data\\processed\\city_ev_agg.csv (True)\n",
            "  - Evaluation: e:\\FDM\\PROJECT\\NEW\\Smart-Charge-Locator\\data\\processed\\model_eval.csv (True)\n"
          ]
        }
      ],
      "source": [
        "# Resolve paths robustly\n",
        "CWD = Path.cwd()\n",
        "# Check if we're in notebooks/ directory or project root\n",
        "if CWD.name == 'notebooks':\n",
        "    # We're in notebooks/ directory, go up one level\n",
        "    BASE_DIR = CWD.parent\n",
        "else:\n",
        "    # We're in project root\n",
        "    BASE_DIR = CWD\n",
        "\n",
        "MODEL = BASE_DIR / 'models/best_model.pkl'\n",
        "DF_FEATS = BASE_DIR / 'data/processed/model_ready_city_ev.csv'\n",
        "DF_AGG = BASE_DIR / 'data/processed/city_ev_agg.csv'\n",
        "EVAL = BASE_DIR / 'data/processed/model_eval.csv'\n",
        "\n",
        "if not all(p.exists() for p in [MODEL, DF_FEATS, DF_AGG, EVAL]):\n",
        "    missing = [p for p in [MODEL, DF_FEATS, DF_AGG, EVAL] if not p.exists()]\n",
        "    raise FileNotFoundError(f'Missing files: {missing}')\n",
        "\n",
        "print(f\"Current directory: {CWD}\")\n",
        "print(f\"Base directory: {BASE_DIR}\")\n",
        "print(\"Required files found:\")\n",
        "print(f\"  - Model: {MODEL} ({MODEL.exists()})\")\n",
        "print(f\"  - Features: {DF_FEATS} ({DF_FEATS.exists()})\")\n",
        "print(f\"  - Aggregated: {DF_AGG} ({DF_AGG.exists()})\")\n",
        "print(f\"  - Evaluation: {EVAL} ({EVAL.exists()})\")\n"
      ]
    },
    {
      "cell_type": "code",
      "execution_count": 3,
      "metadata": {},
      "outputs": [
        {
          "name": "stdout",
          "output_type": "stream",
          "text": [
            "Model type: RandomForestRegressor\n",
            "Features data shape: (5190, 5)\n",
            "Aggregated data shape: (821, 4)\n",
            "Evaluation metrics shape: (3, 3)\n",
            "\n",
            "Model evaluation metrics:\n",
            "              model        r2        mae\n",
            "2      RandomForest  0.959353   9.342170\n",
            "1             Ridge  0.701039  25.163649\n",
            "0  LinearRegression  0.701039  25.163656\n"
          ]
        }
      ],
      "source": [
        "# Load data and model\n",
        "best = joblib.load(MODEL)\n",
        "feats = pd.read_csv(DF_FEATS)\n",
        "agg = pd.read_csv(DF_AGG)\n",
        "metrics = pd.read_csv(EVAL)\n",
        "\n",
        "print(f\"Model type: {type(best).__name__}\")\n",
        "print(f\"Features data shape: {feats.shape}\")\n",
        "print(f\"Aggregated data shape: {agg.shape}\")\n",
        "print(f\"Evaluation metrics shape: {metrics.shape}\")\n",
        "\n",
        "print(\"\\nModel evaluation metrics:\")\n",
        "print(metrics.sort_values('r2', ascending=False))\n"
      ]
    },
    {
      "cell_type": "code",
      "execution_count": 4,
      "metadata": {},
      "outputs": [
        {
          "name": "stdout",
          "output_type": "stream",
          "text": [
            "Target year: 2026\n",
            "Prediction data shape: (192, 6)\n",
            "Sample prediction data:\n"
          ]
        },
        {
          "data": {
            "text/html": [
              "<div>\n",
              "<style scoped>\n",
              "    .dataframe tbody tr th:only-of-type {\n",
              "        vertical-align: middle;\n",
              "    }\n",
              "\n",
              "    .dataframe tbody tr th {\n",
              "        vertical-align: top;\n",
              "    }\n",
              "\n",
              "    .dataframe thead th {\n",
              "        text-align: right;\n",
              "    }\n",
              "</style>\n",
              "<table border=\"1\" class=\"dataframe\">\n",
              "  <thead>\n",
              "    <tr style=\"text-align: right;\">\n",
              "      <th></th>\n",
              "      <th>City</th>\n",
              "      <th>Model Year</th>\n",
              "      <th>EV_Count</th>\n",
              "      <th>Prev_Year_EV_Count</th>\n",
              "      <th>Year_Delta</th>\n",
              "      <th>Pred_EV_Count</th>\n",
              "    </tr>\n",
              "  </thead>\n",
              "  <tbody>\n",
              "    <tr>\n",
              "      <th>14</th>\n",
              "      <td>Aberdeen</td>\n",
              "      <td>2026</td>\n",
              "      <td>1</td>\n",
              "      <td>12.0</td>\n",
              "      <td>26</td>\n",
              "      <td>1.872750</td>\n",
              "    </tr>\n",
              "    <tr>\n",
              "      <th>106</th>\n",
              "      <td>Anacortes</td>\n",
              "      <td>2026</td>\n",
              "      <td>10</td>\n",
              "      <td>85.0</td>\n",
              "      <td>26</td>\n",
              "      <td>12.471167</td>\n",
              "    </tr>\n",
              "    <tr>\n",
              "      <th>149</th>\n",
              "      <td>Arlington</td>\n",
              "      <td>2026</td>\n",
              "      <td>7</td>\n",
              "      <td>68.0</td>\n",
              "      <td>26</td>\n",
              "      <td>11.665000</td>\n",
              "    </tr>\n",
              "    <tr>\n",
              "      <th>186</th>\n",
              "      <td>Auburn</td>\n",
              "      <td>2026</td>\n",
              "      <td>42</td>\n",
              "      <td>256.0</td>\n",
              "      <td>26</td>\n",
              "      <td>32.860000</td>\n",
              "    </tr>\n",
              "    <tr>\n",
              "      <th>208</th>\n",
              "      <td>Bainbridge Island</td>\n",
              "      <td>2026</td>\n",
              "      <td>6</td>\n",
              "      <td>185.0</td>\n",
              "      <td>26</td>\n",
              "      <td>13.660000</td>\n",
              "    </tr>\n",
              "  </tbody>\n",
              "</table>\n",
              "</div>"
            ],
            "text/plain": [
              "                  City  Model Year  EV_Count  Prev_Year_EV_Count  Year_Delta  \\\n",
              "14            Aberdeen        2026         1                12.0          26   \n",
              "106          Anacortes        2026        10                85.0          26   \n",
              "149          Arlington        2026         7                68.0          26   \n",
              "186             Auburn        2026        42               256.0          26   \n",
              "208  Bainbridge Island        2026         6               185.0          26   \n",
              "\n",
              "     Pred_EV_Count  \n",
              "14        1.872750  \n",
              "106      12.471167  \n",
              "149      11.665000  \n",
              "186      32.860000  \n",
              "208      13.660000  "
            ]
          },
          "execution_count": 4,
          "metadata": {},
          "output_type": "execute_result"
        }
      ],
      "source": [
        "# Prepare prediction data\n",
        "latest_year = int(feats['Model Year'].max())\n",
        "target_year = latest_year  # can change\n",
        "\n",
        "base = feats[feats['Model Year'] == target_year].copy()\n",
        "X = base[['Model Year','Prev_Year_EV_Count','Year_Delta']]\n",
        "base['Pred_EV_Count'] = best.predict(X)\n",
        "\n",
        "print(f\"Target year: {target_year}\")\n",
        "print(f\"Prediction data shape: {base.shape}\")\n",
        "print(\"Sample prediction data:\")\n",
        "base.head()\n"
      ]
    },
    {
      "cell_type": "code",
      "execution_count": 5,
      "metadata": {},
      "outputs": [
        {
          "name": "stdout",
          "output_type": "stream",
          "text": [
            "Merged data shape: (192, 4)\n",
            "Sample merged data:\n"
          ]
        },
        {
          "data": {
            "text/html": [
              "<div>\n",
              "<style scoped>\n",
              "    .dataframe tbody tr th:only-of-type {\n",
              "        vertical-align: middle;\n",
              "    }\n",
              "\n",
              "    .dataframe tbody tr th {\n",
              "        vertical-align: top;\n",
              "    }\n",
              "\n",
              "    .dataframe thead th {\n",
              "        text-align: right;\n",
              "    }\n",
              "</style>\n",
              "<table border=\"1\" class=\"dataframe\">\n",
              "  <thead>\n",
              "    <tr style=\"text-align: right;\">\n",
              "      <th></th>\n",
              "      <th>City</th>\n",
              "      <th>Pred_EV_Count</th>\n",
              "      <th>EV_Density_Proxy</th>\n",
              "      <th>EV_Count_Total</th>\n",
              "    </tr>\n",
              "  </thead>\n",
              "  <tbody>\n",
              "    <tr>\n",
              "      <th>0</th>\n",
              "      <td>Aberdeen</td>\n",
              "      <td>1.872750</td>\n",
              "      <td>236.0</td>\n",
              "      <td>236</td>\n",
              "    </tr>\n",
              "    <tr>\n",
              "      <th>1</th>\n",
              "      <td>Anacortes</td>\n",
              "      <td>12.471167</td>\n",
              "      <td>950.0</td>\n",
              "      <td>950</td>\n",
              "    </tr>\n",
              "    <tr>\n",
              "      <th>2</th>\n",
              "      <td>Arlington</td>\n",
              "      <td>11.665000</td>\n",
              "      <td>175.2</td>\n",
              "      <td>876</td>\n",
              "    </tr>\n",
              "    <tr>\n",
              "      <th>3</th>\n",
              "      <td>Auburn</td>\n",
              "      <td>32.860000</td>\n",
              "      <td>587.6</td>\n",
              "      <td>2938</td>\n",
              "    </tr>\n",
              "    <tr>\n",
              "      <th>4</th>\n",
              "      <td>Bainbridge Island</td>\n",
              "      <td>13.660000</td>\n",
              "      <td>2260.0</td>\n",
              "      <td>2260</td>\n",
              "    </tr>\n",
              "  </tbody>\n",
              "</table>\n",
              "</div>"
            ],
            "text/plain": [
              "                City  Pred_EV_Count  EV_Density_Proxy  EV_Count_Total\n",
              "0           Aberdeen       1.872750             236.0             236\n",
              "1          Anacortes      12.471167             950.0             950\n",
              "2          Arlington      11.665000             175.2             876\n",
              "3             Auburn      32.860000             587.6            2938\n",
              "4  Bainbridge Island      13.660000            2260.0            2260"
            ]
          },
          "execution_count": 5,
          "metadata": {},
          "output_type": "execute_result"
        }
      ],
      "source": [
        "# Merge with density proxy data\n",
        "out = base[['City','Pred_EV_Count']].groupby('City', as_index=False).sum()\n",
        "out = out.merge(agg[['City','EV_Density_Proxy','EV_Count_Total']], on='City', how='left')\n",
        "\n",
        "print(f\"Merged data shape: {out.shape}\")\n",
        "print(\"Sample merged data:\")\n",
        "out.head()\n"
      ]
    },
    {
      "cell_type": "code",
      "execution_count": 6,
      "metadata": {},
      "outputs": [
        {
          "name": "stdout",
          "output_type": "stream",
          "text": [
            "Top 10 cities by density proxy:\n",
            "                  City  EV_Density_Proxy  Pred_EV_Count\n",
            "106      Mercer Island       2988.000000         21.195\n",
            "4    Bainbridge Island       2260.000000         13.660\n",
            "23               Camas       2177.000000         21.305\n",
            "88        Lake Stevens       2129.000000         15.305\n",
            "149          Sammamish       1755.250000         97.350\n",
            "12         Bonney Lake       1532.000000         19.880\n",
            "7             Bellevue       1525.500000        285.025\n",
            "143            Redmond       1442.166667        112.605\n",
            "78             Kenmore       1436.000000         13.275\n",
            "8           Bellingham       1400.000000         24.405\n"
          ]
        }
      ],
      "source": [
        "# Top 10 cities by density proxy\n",
        "top10 = out.sort_values('EV_Density_Proxy', ascending=False).head(10)\n",
        "\n",
        "print('Top 10 cities by density proxy:')\n",
        "print(top10[['City','EV_Density_Proxy','Pred_EV_Count']])\n"
      ]
    },
    {
      "cell_type": "code",
      "execution_count": 7,
      "metadata": {},
      "outputs": [
        {
          "data": {
            "image/png": "[encoded data removed]",
            "text/plain": [
              "<Figure size 1200x600 with 1 Axes>"
            ]
          },
          "metadata": {},
          "output_type": "display_data"
        }
      ],
      "source": [
        "# Create visualization\n",
        "fig, ax = plt.subplots(figsize=(12,6))\n",
        "ax.bar(range(len(top10)), top10['EV_Density_Proxy'])\n",
        "ax.set_xticks(range(len(top10)))\n",
        "ax.set_xticklabels(top10['City'], rotation=45, ha='right')\n",
        "ax.set_ylabel('EV Density Proxy')\n",
        "ax.set_title('Top 10 Cities by EV Density Proxy')\n",
        "ax.grid(True, alpha=0.3)\n",
        "plt.tight_layout()\n",
        "plt.show()\n"
      ]
    },
    {
      "cell_type": "code",
      "execution_count": 8,
      "metadata": {},
      "outputs": [
        {
          "name": "stdout",
          "output_type": "stream",
          "text": [
            "Summary Statistics:\n",
            "Total cities analyzed: 192\n",
            "Average EV Density Proxy: 410.76\n",
            "Median EV Density Proxy: 274.33\n",
            "Max EV Density Proxy: 2988.00\n",
            "\n",
            "Model Performance Summary:\n",
            "Best Model: RandomForest\n",
            "R² Score: 0.959\n",
            "MAE: 9.342\n"
          ]
        }
      ],
      "source": [
        "# Summary statistics\n",
        "print(\"Summary Statistics:\")\n",
        "print(f\"Total cities analyzed: {len(out)}\")\n",
        "print(f\"Average EV Density Proxy: {out['EV_Density_Proxy'].mean():.2f}\")\n",
        "print(f\"Median EV Density Proxy: {out['EV_Density_Proxy'].median():.2f}\")\n",
        "print(f\"Max EV Density Proxy: {out['EV_Density_Proxy'].max():.2f}\")\n",
        "\n",
        "print(\"\\nModel Performance Summary:\")\n",
        "best_model_metrics = metrics.sort_values('r2', ascending=False).iloc[0]\n",
        "print(f\"Best Model: {best_model_metrics['model']}\")\n",
        "print(f\"R² Score: {best_model_metrics['r2']:.3f}\")\n",
        "print(f\"MAE: {best_model_metrics['mae']:.3f}\")\n"
      ]
    }
  ],
  "metadata": {
    "kernelspec": {
      "display_name": ".venv (3.11.9)",
      "language": "python",
      "name": "python3"
    },
    "language_info": {
      "codemirror_mode": {
        "name": "ipython",
        "version": 3
      },
      "file_extension": ".py",
      "mimetype": "text/x-python",
      "name": "python",
      "nbconvert_exporter": "python",
      "pygments_lexer": "ipython3",
      "version": "3.11.9"
    }
  },
  "nbformat": 4,
  "nbformat_minor": 2
}
