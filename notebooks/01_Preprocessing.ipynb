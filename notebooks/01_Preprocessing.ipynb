{
  "cells": [
    {
      "cell_type": "markdown",
      "metadata": {},
      "source": [
        "# 01 – Preprocessing (City-level EV Dataset)\n",
        "\n",
        "Objective: Ingest raw EV population Excel, clean, and produce city-level aggregates suitable for clustering and modeling.\n",
        "\n",
        "Outputs:\n",
        "- `data/processed/city_ev_agg.csv` – City-level counts per year and total.\n",
        "- `data/processed/model_ready_city_ev.csv` – Per city/year with lag features.\n",
        "\n",
        "Requirements: pandas, numpy.\n"
      ]
    },
    {
      "cell_type": "code",
      "execution_count": null,
      "metadata": {},
      "outputs": [],
      "source": [
        "# Imports: data wrangling and file path utilities\n",
        "import pandas as pd\n",
        "import numpy as np\n",
        "from pathlib import Path\n"
      ]
    },
    {
      "cell_type": "code",
      "execution_count": null,
      "metadata": {},
      "outputs": [
        {
          "name": "stdout",
          "output_type": "stream",
          "text": [
            "Raw data path: e:\\FDM\\PROJECT\\NEW\\Smart-Charge-Locator\\data\\raw\\Electric_Vehicle_Population_Data.xlsx\n",
            "Output directory: e:\\FDM\\PROJECT\\NEW\\Smart-Charge-Locator\\notebooks\\data\\processed\n"
          ]
        }
      ],
      "source": [
        "# Resolve paths robustly whether run from project root or notebooks/\n",
        "CWD = Path.cwd()\n",
        "# Decide base directory (project root). If running inside notebooks/, go one level up.\n",
        "if CWD.name == 'notebooks':\n",
        "    BASE_DIR = CWD.parent\n",
        "else:\n",
        "    BASE_DIR = CWD\n",
        "\n",
        "# Candidate locations for the raw Excel; pick the first that exists\n",
        "CANDIDATES = [\n",
        "    BASE_DIR / 'data/raw/Electric_Vehicle_Population_Data.xlsx',\n",
        "    CWD / 'data/raw/Electric_Vehicle_Population_Data.xlsx',  # fallback when running from notebooks/\n",
        "]\n",
        "RAW_PATH = next((p for p in CANDIDATES if p.exists()), None)\n",
        "if RAW_PATH is None:\n",
        "    raise FileNotFoundError(f\"Could not find raw Excel. Tried: {[str(p) for p in CANDIDATES]}\")\n",
        "\n",
        "# Ensure output directory exists\n",
        "OUT_DIR = BASE_DIR / 'data/processed'\n",
        "OUT_DIR.mkdir(parents=True, exist_ok=True)\n",
        "\n",
        "# Diagnostics to help users see what paths are being used\n",
        "print(f\"Current directory: {CWD}\")\n",
        "print(f\"Base directory: {BASE_DIR}\")\n",
        "print(f\"Raw data path: {RAW_PATH}\")\n",
        "print(f\"Output directory: {OUT_DIR}\")\n",
        "print(f\"Raw data exists: {RAW_PATH.exists()}\")\n",
        "print(f\"Output directory exists: {OUT_DIR.exists()}\")\n"
      ]
    },
    {
      "cell_type": "code",
      "execution_count": null,
      "metadata": {},
      "outputs": [
        {
          "name": "stdout",
          "output_type": "stream",
          "text": [
            "Raw data shape: (250659, 17)\n",
            "Columns: ['VIN (1-10)', 'County', 'City', 'State', 'Postal Code', 'Model Year', 'Make', 'Model', 'Electric Vehicle Type', 'Clean Alternative Fuel Vehicle (CAFV) Eligibility', 'Electric Range', 'Base MSRP', 'Legislative District', 'DOL Vehicle ID', 'Vehicle Location', 'Electric Utility', '2020 Census Tract']\n"
          ]
        }
      ],
      "source": [
        "# Read raw Excel (first sheet)\n",
        "# Note: requires openpyxl in the environment\n",
        "df = pd.read_excel(RAW_PATH)\n",
        "print(f\"Raw data shape: {df.shape}\")\n",
        "print(f\"Columns: {list(df.columns)}\")\n"
      ]
    },
    {
      "cell_type": "code",
      "execution_count": null,
      "metadata": {},
      "outputs": [
        {
          "name": "stdout",
          "output_type": "stream",
          "text": [
            "After column selection: (250659, 6)\n",
            "Selected columns: ['City', 'County', 'Postal Code', 'Model Year', 'Electric Range', 'Vehicle Location']\n"
          ]
        }
      ],
      "source": [
        "# Standardize column names (trim spaces, Title Case)\n",
        "df.columns = [c.strip().title() for c in df.columns]\n",
        "\n",
        "# Expected columns (best-effort); warn if any are missing\n",
        "expected = ['City', 'County', 'Postal Code', 'Model Year', 'Electric Range']\n",
        "missing = [c for c in expected if c not in df.columns]\n",
        "if missing:\n",
        "    print('Warning: missing columns:', missing)\n",
        "\n",
        "# Keep only relevant columns that exist, and optional geo columns if available\n",
        "extra_cols = [c for c in ['Vehicle Location','Latitude','Longitude'] if c in df.columns]\n",
        "df = df[[c for c in expected if c in df.columns] + extra_cols]\n",
        "\n",
        "print(f\"After column selection: {df.shape}\")\n",
        "print(f\"Selected columns: {list(df.columns)}\")\n"
      ]
    },
    {
      "cell_type": "code",
      "execution_count": null,
      "metadata": {},
      "outputs": [
        {
          "name": "stdout",
          "output_type": "stream",
          "text": [
            "After cleaning: (250653, 6)\n",
            "City column sample: 0      Granger\n",
            "1       Yakima\n",
            "2      Everett\n",
            "3       Yakima\n",
            "4    Bremerton\n",
            "Name: City, dtype: object\n"
          ]
        }
      ],
      "source": [
        "# Coerce types for consistency and downstream math\n",
        "\n",
        "# Ensure model year is numeric (coerce invalid values to NaN)\n",
        "if 'Model Year' in df:\n",
        "    df['Model Year'] = pd.to_numeric(df['Model Year'], errors='coerce')\n",
        "# Ensure postal code is numeric if present (useful for nunique)\n",
        "if 'Postal Code' in df:\n",
        "    df['Postal Code'] = pd.to_numeric(df['Postal Code'], errors='coerce')\n",
        "\n",
        "# Drop rows without City and normalize casing/whitespace for grouping\n",
        "if 'City' in df:\n",
        "    df = df.dropna(subset=['City'])\n",
        "    df['City'] = df['City'].astype(str).str.strip().str.title()\n",
        "\n",
        "print(f\"After cleaning: {df.shape}\")\n",
        "print(f\"City column sample: {df['City'].head()}\")\n"
      ]
    },
    {
      "cell_type": "code",
      "execution_count": null,
      "metadata": {},
      "outputs": [
        {
          "name": "stdout",
          "output_type": "stream",
          "text": [
            "City-year data shape: (5190, 3)\n",
            "Sample city-year data:\n"
          ]
        },
        {
          "data": {
            "text/html": [
              "<div>\n",
              "<style scoped>\n",
              "    .dataframe tbody tr th:only-of-type {\n",
              "        vertical-align: middle;\n",
              "    }\n",
              "\n",
              "    .dataframe tbody tr th {\n",
              "        vertical-align: top;\n",
              "    }\n",
              "\n",
              "    .dataframe thead th {\n",
              "        text-align: right;\n",
              "    }\n",
              "</style>\n",
              "<table border=\"1\" class=\"dataframe\">\n",
              "  <thead>\n",
              "    <tr style=\"text-align: right;\">\n",
              "      <th></th>\n",
              "      <th>City</th>\n",
              "      <th>Model Year</th>\n",
              "      <th>EV_Count</th>\n",
              "    </tr>\n",
              "  </thead>\n",
              "  <tbody>\n",
              "    <tr>\n",
              "      <th>0</th>\n",
              "      <td>Aberdeen</td>\n",
              "      <td>2011</td>\n",
              "      <td>1</td>\n",
              "    </tr>\n",
              "    <tr>\n",
              "      <th>1</th>\n",
              "      <td>Aberdeen</td>\n",
              "      <td>2013</td>\n",
              "      <td>8</td>\n",
              "    </tr>\n",
              "    <tr>\n",
              "      <th>2</th>\n",
              "      <td>Aberdeen</td>\n",
              "      <td>2014</td>\n",
              "      <td>4</td>\n",
              "    </tr>\n",
              "    <tr>\n",
              "      <th>3</th>\n",
              "      <td>Aberdeen</td>\n",
              "      <td>2015</td>\n",
              "      <td>5</td>\n",
              "    </tr>\n",
              "    <tr>\n",
              "      <th>4</th>\n",
              "      <td>Aberdeen</td>\n",
              "      <td>2016</td>\n",
              "      <td>7</td>\n",
              "    </tr>\n",
              "  </tbody>\n",
              "</table>\n",
              "</div>"
            ],
            "text/plain": [
              "       City  Model Year  EV_Count\n",
              "0  Aberdeen        2011         1\n",
              "1  Aberdeen        2013         8\n",
              "2  Aberdeen        2014         4\n",
              "3  Aberdeen        2015         5\n",
              "4  Aberdeen        2016         7"
            ]
          },
          "execution_count": 10,
          "metadata": {},
          "output_type": "execute_result"
        }
      ],
      "source": [
        "# Build city-year counts (each row in raw is one vehicle registration)\n",
        "city_year = df.groupby(['City','Model Year'], as_index=False).size().rename(columns={'size':'EV_Count'})\n",
        "\n",
        "print(f\"City-year data shape: {city_year.shape}\")\n",
        "print(\"Sample city-year data:\")\n",
        "city_year.head()\n"
      ]
    },
    {
      "cell_type": "code",
      "execution_count": null,
      "metadata": {},
      "outputs": [
        {
          "name": "stdout",
          "output_type": "stream",
          "text": [
            "Features created:\n",
            "- Prev_Year_EV_Count: Previous year's EV count for each city\n",
            "- Year_Delta: Years since the earliest model year\n",
            "\n",
            "Sample with features:\n"
          ]
        },
        {
          "data": {
            "text/html": [
              "<div>\n",
              "<style scoped>\n",
              "    .dataframe tbody tr th:only-of-type {\n",
              "        vertical-align: middle;\n",
              "    }\n",
              "\n",
              "    .dataframe tbody tr th {\n",
              "        vertical-align: top;\n",
              "    }\n",
              "\n",
              "    .dataframe thead th {\n",
              "        text-align: right;\n",
              "    }\n",
              "</style>\n",
              "<table border=\"1\" class=\"dataframe\">\n",
              "  <thead>\n",
              "    <tr style=\"text-align: right;\">\n",
              "      <th></th>\n",
              "      <th>City</th>\n",
              "      <th>Model Year</th>\n",
              "      <th>EV_Count</th>\n",
              "      <th>Prev_Year_EV_Count</th>\n",
              "      <th>Year_Delta</th>\n",
              "    </tr>\n",
              "  </thead>\n",
              "  <tbody>\n",
              "    <tr>\n",
              "      <th>0</th>\n",
              "      <td>Aberdeen</td>\n",
              "      <td>2011</td>\n",
              "      <td>1</td>\n",
              "      <td>0.0</td>\n",
              "      <td>11</td>\n",
              "    </tr>\n",
              "    <tr>\n",
              "      <th>1</th>\n",
              "      <td>Aberdeen</td>\n",
              "      <td>2013</td>\n",
              "      <td>8</td>\n",
              "      <td>1.0</td>\n",
              "      <td>13</td>\n",
              "    </tr>\n",
              "    <tr>\n",
              "      <th>2</th>\n",
              "      <td>Aberdeen</td>\n",
              "      <td>2014</td>\n",
              "      <td>4</td>\n",
              "      <td>8.0</td>\n",
              "      <td>14</td>\n",
              "    </tr>\n",
              "    <tr>\n",
              "      <th>3</th>\n",
              "      <td>Aberdeen</td>\n",
              "      <td>2015</td>\n",
              "      <td>5</td>\n",
              "      <td>4.0</td>\n",
              "      <td>15</td>\n",
              "    </tr>\n",
              "    <tr>\n",
              "      <th>4</th>\n",
              "      <td>Aberdeen</td>\n",
              "      <td>2016</td>\n",
              "      <td>7</td>\n",
              "      <td>5.0</td>\n",
              "      <td>16</td>\n",
              "    </tr>\n",
              "  </tbody>\n",
              "</table>\n",
              "</div>"
            ],
            "text/plain": [
              "       City  Model Year  EV_Count  Prev_Year_EV_Count  Year_Delta\n",
              "0  Aberdeen        2011         1                 0.0          11\n",
              "1  Aberdeen        2013         8                 1.0          13\n",
              "2  Aberdeen        2014         4                 8.0          14\n",
              "3  Aberdeen        2015         5                 4.0          15\n",
              "4  Aberdeen        2016         7                 5.0          16"
            ]
          },
          "execution_count": 11,
          "metadata": {},
          "output_type": "execute_result"
        }
      ],
      "source": [
        "# Create lag features per city(feature engineering)\n",
        "# - Prev_Year_EV_Count: previous year's count, fill 0 for first year\n",
        "# - Year_Delta: how many years since the earliest model year in dataset\n",
        "city_year = city_year.sort_values(['City','Model Year'])\n",
        "city_year['Prev_Year_EV_Count'] = city_year.groupby('City')['EV_Count'].shift(1).fillna(0)\n",
        "city_year['Year_Delta'] = city_year['Model Year'] - city_year['Model Year'].min()\n",
        "\n",
        "print(\"Features created:\")\n",
        "print(\"- Prev_Year_EV_Count: Previous year's EV count for each city\")\n",
        "print(\"- Year_Delta: Years since the earliest model year\")\n",
        "print(\"\\nSample with features:\")\n",
        "city_year.head()\n"
      ]
    },
    {
      "cell_type": "code",
      "execution_count": null,
      "metadata": {},
      "outputs": [
        {
          "name": "stdout",
          "output_type": "stream",
          "text": [
            "City totals shape: (821, 2)\n",
            "Sample city totals:\n"
          ]
        },
        {
          "data": {
            "text/html": [
              "<div>\n",
              "<style scoped>\n",
              "    .dataframe tbody tr th:only-of-type {\n",
              "        vertical-align: middle;\n",
              "    }\n",
              "\n",
              "    .dataframe tbody tr th {\n",
              "        vertical-align: top;\n",
              "    }\n",
              "\n",
              "    .dataframe thead th {\n",
              "        text-align: right;\n",
              "    }\n",
              "</style>\n",
              "<table border=\"1\" class=\"dataframe\">\n",
              "  <thead>\n",
              "    <tr style=\"text-align: right;\">\n",
              "      <th></th>\n",
              "      <th>City</th>\n",
              "      <th>EV_Count_Total</th>\n",
              "    </tr>\n",
              "  </thead>\n",
              "  <tbody>\n",
              "    <tr>\n",
              "      <th>0</th>\n",
              "      <td>Aberdeen</td>\n",
              "      <td>236</td>\n",
              "    </tr>\n",
              "    <tr>\n",
              "      <th>1</th>\n",
              "      <td>Aberdeen Proving Ground</td>\n",
              "      <td>1</td>\n",
              "    </tr>\n",
              "    <tr>\n",
              "      <th>2</th>\n",
              "      <td>Acme</td>\n",
              "      <td>11</td>\n",
              "    </tr>\n",
              "    <tr>\n",
              "      <th>3</th>\n",
              "      <td>Addy</td>\n",
              "      <td>6</td>\n",
              "    </tr>\n",
              "    <tr>\n",
              "      <th>4</th>\n",
              "      <td>Airway Heights</td>\n",
              "      <td>42</td>\n",
              "    </tr>\n",
              "  </tbody>\n",
              "</table>\n",
              "</div>"
            ],
            "text/plain": [
              "                      City  EV_Count_Total\n",
              "0                 Aberdeen             236\n",
              "1  Aberdeen Proving Ground               1\n",
              "2                     Acme              11\n",
              "3                     Addy               6\n",
              "4           Airway Heights              42"
            ]
          },
          "execution_count": 12,
          "metadata": {},
          "output_type": "execute_result"
        }
      ],
      "source": [
        "# Aggregate city totals for clustering baseline and reporting\n",
        "city_totals = city_year.groupby('City', as_index=False)['EV_Count'].sum().rename(columns={'EV_Count':'EV_Count_Total'})\n",
        "\n",
        "print(f\"City totals shape: {city_totals.shape}\")\n",
        "print(\"Sample city totals:\")\n",
        "city_totals.head()\n"
      ]
    },
    {
      "cell_type": "code",
      "execution_count": null,
      "metadata": {},
      "outputs": [
        {
          "name": "stdout",
          "output_type": "stream",
          "text": [
            "EV Density Proxy calculation:\n",
            "- Formula: Total EVs / Unique Postal Codes in city\n",
            "- Purpose: Proxy for EV density when population/area data unavailable\n",
            "\n",
            "Sample with density proxy:\n"
          ]
        },
        {
          "data": {
            "text/html": [
              "<div>\n",
              "<style scoped>\n",
              "    .dataframe tbody tr th:only-of-type {\n",
              "        vertical-align: middle;\n",
              "    }\n",
              "\n",
              "    .dataframe tbody tr th {\n",
              "        vertical-align: top;\n",
              "    }\n",
              "\n",
              "    .dataframe thead th {\n",
              "        text-align: right;\n",
              "    }\n",
              "</style>\n",
              "<table border=\"1\" class=\"dataframe\">\n",
              "  <thead>\n",
              "    <tr style=\"text-align: right;\">\n",
              "      <th></th>\n",
              "      <th>City</th>\n",
              "      <th>EV_Count_Total</th>\n",
              "      <th>Unique_Zips</th>\n",
              "      <th>EV_Density_Proxy</th>\n",
              "    </tr>\n",
              "  </thead>\n",
              "  <tbody>\n",
              "    <tr>\n",
              "      <th>0</th>\n",
              "      <td>Aberdeen</td>\n",
              "      <td>236</td>\n",
              "      <td>1</td>\n",
              "      <td>236.0</td>\n",
              "    </tr>\n",
              "    <tr>\n",
              "      <th>1</th>\n",
              "      <td>Aberdeen Proving Ground</td>\n",
              "      <td>1</td>\n",
              "      <td>1</td>\n",
              "      <td>1.0</td>\n",
              "    </tr>\n",
              "    <tr>\n",
              "      <th>2</th>\n",
              "      <td>Acme</td>\n",
              "      <td>11</td>\n",
              "      <td>1</td>\n",
              "      <td>11.0</td>\n",
              "    </tr>\n",
              "    <tr>\n",
              "      <th>3</th>\n",
              "      <td>Addy</td>\n",
              "      <td>6</td>\n",
              "      <td>1</td>\n",
              "      <td>6.0</td>\n",
              "    </tr>\n",
              "    <tr>\n",
              "      <th>4</th>\n",
              "      <td>Airway Heights</td>\n",
              "      <td>42</td>\n",
              "      <td>1</td>\n",
              "      <td>42.0</td>\n",
              "    </tr>\n",
              "  </tbody>\n",
              "</table>\n",
              "</div>"
            ],
            "text/plain": [
              "                      City  EV_Count_Total  Unique_Zips  EV_Density_Proxy\n",
              "0                 Aberdeen             236            1             236.0\n",
              "1  Aberdeen Proving Ground               1            1               1.0\n",
              "2                     Acme              11            1              11.0\n",
              "3                     Addy               6            1               6.0\n",
              "4           Airway Heights              42            1              42.0"
            ]
          },
          "execution_count": 13,
          "metadata": {},
          "output_type": "execute_result"
        }
      ],
      "source": [
        "# Density proxy: EVs per unique postal code in the city\n",
        "# Rationale: quick proxy when population/area not available\n",
        "if 'Postal Code' in df:\n",
        "    zips_per_city = df.groupby('City', as_index=False)['Postal Code'].nunique().rename(columns={'Postal Code':'Unique_Zips'})\n",
        "    city_totals = city_totals.merge(zips_per_city, on='City', how='left')\n",
        "    city_totals['Unique_Zips'] = city_totals['Unique_Zips'].replace(0, np.nan)\n",
        "    city_totals['EV_Density_Proxy'] = city_totals['EV_Count_Total'] / city_totals['Unique_Zips']\n",
        "else:\n",
        "    city_totals['EV_Density_Proxy'] = city_totals['EV_Count_Total']\n",
        "\n",
        "print(\"EV Density Proxy calculation:\")\n",
        "print(\"- Formula: Total EVs / Unique Postal Codes in city\")\n",
        "print(\"- Purpose: Proxy for EV density when population/area data unavailable\")\n",
        "print(\"\\nSample with density proxy:\")\n",
        "city_totals.head()\n"
      ]
    },
    {
      "cell_type": "code",
      "execution_count": null,
      "metadata": {},
      "outputs": [
        {
          "name": "stdout",
          "output_type": "stream",
          "text": [
            "Files saved:\n",
            "- e:\\FDM\\PROJECT\\NEW\\Smart-Charge-Locator\\notebooks\\data\\processed\\city_ev_agg.csv\n",
            "- e:\\FDM\\PROJECT\\NEW\\Smart-Charge-Locator\\notebooks\\data\\processed\\model_ready_city_ev.csv\n",
            "\n",
            "Final summary:\n",
            "Total cities: 821\n",
            "Total city-year records: 5190\n",
            "Year range: 2000 - 2026\n"
          ]
        }
      ],
      "source": [
        "# Save artifacts for downstream steps (clustering and modeling)\n",
        "city_totals.to_csv(OUT_DIR / 'city_ev_agg.csv', index=False)\n",
        "city_year.to_csv(OUT_DIR / 'model_ready_city_ev.csv', index=False)\n",
        "\n",
        "print(\"Files saved:\")\n",
        "print(f\"- {OUT_DIR / 'city_ev_agg.csv'}\")\n",
        "print(f\"- {OUT_DIR / 'model_ready_city_ev.csv'}\")\n",
        "print(\"\\nFinal summary:\")\n",
        "print(f\"Total cities: {len(city_totals)}\")\n",
        "print(f\"Total city-year records: {len(city_year)}\")\n",
        "print(f\"Year range: {city_year['Model Year'].min()} - {city_year['Model Year'].max()}\")\n"
      ]
    }
  ],
  "metadata": {
    "kernelspec": {
      "display_name": ".venv",
      "language": "python",
      "name": "python3"
    },
    "language_info": {
      "codemirror_mode": {
        "name": "ipython",
        "version": 3
      },
      "file_extension": ".py",
      "mimetype": "text/x-python",
      "name": "python",
      "nbconvert_exporter": "python",
      "pygments_lexer": "ipython3",
      "version": "3.11.9"
    }
  },
  "nbformat": 4,
  "nbformat_minor": 2
}
