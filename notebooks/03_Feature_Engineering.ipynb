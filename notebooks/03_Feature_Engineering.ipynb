{
 "cells": [
  {
   "cell_type": "code",
   "execution_count": 2,
   "id": "19063b17",
   "metadata": {},
   "outputs": [],
   "source": [
    "# Cell 1: Imports\n",
    "import pandas as pd\n"
   ]
  },
  {
   "cell_type": "code",
   "execution_count": 3,
   "id": "0809b447",
   "metadata": {},
   "outputs": [],
   "source": [
    "\n",
    "# Cell 2: Load Cleaned Data\n",
    "df = pd.read_csv('../data/processed/cleaned_ev_data.csv')\n"
   ]
  },
  {
   "cell_type": "code",
   "execution_count": 4,
   "id": "d950b8b4",
   "metadata": {},
   "outputs": [],
   "source": [
    "\n",
    "# Cell 3: Aggregate Data and Engineer Features\n",
    "ev_counts = df.groupby(['Postal Code', 'Model Year']).size().reset_index(name='EV_Count')\n",
    "ev_counts = ev_counts.sort_values(by=['Postal Code', 'Model Year'])\n",
    "ev_counts['Prev_Year_EV_Count'] = ev_counts.groupby('Postal Code')['EV_Count'].shift(1).fillna(0)\n",
    "ev_counts['Year_Delta'] = ev_counts['Model Year'] - ev_counts['Model Year'].min()\n",
    "model_ready_df = ev_counts[ev_counts['Prev_Year_EV_Count'] > 0].copy()\n"
   ]
  },
  {
   "cell_type": "code",
   "execution_count": 5,
   "id": "06affa36",
   "metadata": {},
   "outputs": [
    {
     "name": "stdout",
     "output_type": "stream",
     "text": [
      "Model-ready data saved to ../data/processed/model_ready_ev_data.csv\n"
     ]
    }
   ],
   "source": [
    "\n",
    "# Cell 4: Save Model-Ready Data\n",
    "model_ready_path = '../data/processed/model_ready_ev_data.csv'\n",
    "model_ready_df.to_csv(model_ready_path, index=False)\n",
    "print(f\"Model-ready data saved to {model_ready_path}\")"
   ]
  }
 ],
 "metadata": {
  "kernelspec": {
   "display_name": ".venv (3.11.9)",
   "language": "python",
   "name": "python3"
  },
  "language_info": {
   "codemirror_mode": {
    "name": "ipython",
    "version": 3
   },
   "file_extension": ".py",
   "mimetype": "text/x-python",
   "name": "python",
   "nbconvert_exporter": "python",
   "pygments_lexer": "ipython3",
   "version": "3.11.9"
  }
 },
 "nbformat": 4,
 "nbformat_minor": 5
}
