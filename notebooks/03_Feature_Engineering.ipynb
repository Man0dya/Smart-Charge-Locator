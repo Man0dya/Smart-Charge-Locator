{
 "cells": [
  {
   "cell_type": "code",
   "execution_count": null,
   "id": "19063b17",
   "metadata": {},
   "outputs": [],
   "source": [
    "# Cell 1: Imports\n",
    "import pandas as pd\n"
   ]
  },
  {
   "cell_type": "code",
   "execution_count": null,
   "id": "0809b447",
   "metadata": {},
   "outputs": [],
   "source": [
    "\n",
    "# Cell 2: Load Cleaned Data\n",
    "df = pd.read_csv('../data/processed/cleaned_ev_data.csv')\n"
   ]
  },
  {
   "cell_type": "code",
   "execution_count": null,
   "id": "d950b8b4",
   "metadata": {},
   "outputs": [],
   "source": [
    "\n",
    "# Cell 3: Aggregate Data and Engineer Features\n",
    "ev_counts = df.groupby(['Postal Code', 'Model Year']).size().reset_index(name='EV_Count')\n",
    "ev_counts = ev_counts.sort_values(by=['Postal Code', 'Model Year'])\n",
    "ev_counts['Prev_Year_EV_Count'] = ev_counts.groupby('Postal Code')['EV_Count'].shift(1).fillna(0)\n",
    "ev_counts['Year_Delta'] = ev_counts['Model Year'] - ev_counts['Model Year'].min()\n",
    "model_ready_df = ev_counts[ev_counts['Prev_Year_EV_Count'] > 0].copy()\n"
   ]
  },
  {
   "cell_type": "code",
   "execution_count": null,
   "id": "06affa36",
   "metadata": {},
   "outputs": [],
   "source": [
    "\n",
    "# Cell 4: Save Model-Ready Data\n",
    "model_ready_path = '../data/processed/model_ready_ev_data.csv'\n",
    "model_ready_df.to_csv(model_ready_path, index=False)\n",
    "print(f\"Model-ready data saved to {model_ready_path}\")"
   ]
  }
 ],
 "metadata": {
  "language_info": {
   "name": "python"
  }
 },
 "nbformat": 4,
 "nbformat_minor": 5
}
