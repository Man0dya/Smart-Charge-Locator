{
 "cells": [
  {
   "cell_type": "code",
   "execution_count": 1,
   "id": "bdb5fd48",
   "metadata": {},
   "outputs": [],
   "source": [
    "# Cell 1: Imports\n",
    "import pandas as pd\n",
    "import matplotlib.pyplot as plt\n",
    "import seaborn as sns\n",
    "\n",
    "sns.set_style(\"whitegrid\")"
   ]
  },
  {
   "cell_type": "code",
   "execution_count": null,
   "id": "2d105f3d",
   "metadata": {},
   "outputs": [],
   "source": [
    "# Cell 2: Load Cleaned Data\n",
    "df = pd.read_csv('../data/processed/cleaned_ev_data.csv')"
   ]
  },
  {
   "cell_type": "code",
   "execution_count": null,
   "id": "2ca98e0d",
   "metadata": {},
   "outputs": [],
   "source": [
    "# Cell 3: Plot 1 - EV Growth Over Time\n",
    "plt.figure(figsize=(12, 6))\n",
    "ev_registrations_by_year = df['Model Year'].value_counts().sort_index()\n",
    "sns.lineplot(x=ev_registrations_by_year.index, y=ev_registrations_by_year.values, marker='o')\n",
    "plt.title('Total EV Registrations by Model Year')\n",
    "plt.xlabel('Model Year')\n",
    "plt.ylabel('Number of Vehicles Registered')\n",
    "plt.savefig('../visualizations/ev_growth_over_time.png')\n",
    "print(\"Saved visualization: ev_growth_over_time.png\")\n",
    "plt.show()"
   ]
  },
  {
   "cell_type": "code",
   "execution_count": null,
   "id": "d8d8dde4",
   "metadata": {},
   "outputs": [],
   "source": [
    "# Cell 4: Plot 2 - Top 10 Counties\n",
    "plt.figure(figsize=(12, 8))\n",
    "top_10_counties = df['County'].value_counts().nlargest(10)\n",
    "sns.barplot(x=top_10_counties.values, y=top_10_counties.index, palette='viridis')\n",
    "plt.title('Top 10 Counties by Total EV Registrations')\n",
    "plt.xlabel('Number of Vehicles')\n",
    "plt.ylabel('County')\n",
    "plt.savefig('../visualizations/top_10_counties_by_ev.png')\n",
    "print(\"Saved visualization: top_10_counties_by_ev.png\")\n",
    "plt.show()"
   ]
  }
 ],
 "metadata": {
  "kernelspec": {
   "display_name": ".venv (3.11.9)",
   "language": "python",
   "name": "python3"
  },
  "language_info": {
   "codemirror_mode": {
    "name": "ipython",
    "version": 3
   },
   "file_extension": ".py",
   "mimetype": "text/x-python",
   "name": "python",
   "nbconvert_exporter": "python",
   "pygments_lexer": "ipython3",
   "version": "3.11.9"
  }
 },
 "nbformat": 4,
 "nbformat_minor": 5
}
