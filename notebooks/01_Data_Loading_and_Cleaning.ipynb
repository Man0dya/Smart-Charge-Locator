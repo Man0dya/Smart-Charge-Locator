{
 "cells": [
  {
   "cell_type": "code",
   "execution_count": 1,
   "id": "ade97d98",
   "metadata": {},
   "outputs": [],
   "source": [
    "# Cell 1: Imports\n",
    "import pandas as pd"
   ]
  },
  {
   "cell_type": "code",
   "execution_count": 2,
   "id": "75c92c92",
   "metadata": {},
   "outputs": [
    {
     "name": "stdout",
     "output_type": "stream",
     "text": [
      "Data Loaded. Shape: (250659, 17)\n"
     ]
    }
   ],
   "source": [
    "# Cell 2: Load Data\n",
    "# Read from the provided Excel file in data/raw\n",
    "raw_excel_path = '../data/raw/Electric_Vehicle_Population_Data.xlsx'\n",
    "df_raw = pd.read_excel(raw_excel_path)\n",
    "print(\"Data Loaded. Shape:\", df_raw.shape)"
   ]
  },
  {
   "cell_type": "code",
   "execution_count": 3,
   "id": "5df9da84",
   "metadata": {},
   "outputs": [
    {
     "name": "stdout",
     "output_type": "stream",
     "text": [
      "Coordinate data saved to ../data/Washington_State_Coordinates.csv\n"
     ]
    }
   ],
   "source": [
    "# Cell 3: Clean Data and Extract Coordinates\n",
    "columns_to_keep = ['County', 'Postal Code', 'Model Year', 'Vehicle Location']\n",
    "df_cleaned = df_raw[columns_to_keep].copy()\n",
    "df_cleaned.dropna(subset=['Postal Code', 'Vehicle Location'], inplace=True)\n",
    "df_cleaned['Postal Code'] = df_cleaned['Postal Code'].astype(str)\n",
    "df_cleaned = df_cleaned[df_cleaned['Model Year'] >= 2010]\n",
    "\n",
    "# Extract and save coordinate mapping for the dashboard\n",
    "df_cleaned[['lon', 'lat']] = df_cleaned['Vehicle Location'].str.extract(r'POINT \\(([^ ]+) ([^ ]+)\\)').astype(float)\n",
    "postal_code_coords = df_cleaned.groupby('Postal Code')[['lat', 'lon']].mean().reset_index()\n",
    "coords_path = '../data/Washington_State_Coordinates.csv'\n",
    "postal_code_coords.to_csv(coords_path, index=False)\n",
    "print(f\"Coordinate data saved to {coords_path}\")"
   ]
  },
  {
   "cell_type": "code",
   "execution_count": 4,
   "id": "6466ec8e",
   "metadata": {},
   "outputs": [
    {
     "name": "stdout",
     "output_type": "stream",
     "text": [
      "Cleaned data saved to ../data/processed/cleaned_ev_data.csv\n"
     ]
    }
   ],
   "source": [
    "# Cell 4: Save Cleaned Data\n",
    "cleaned_path = '../data/processed/cleaned_ev_data.csv'\n",
    "df_cleaned[['County', 'Postal Code', 'Model Year']].to_csv(cleaned_path, index=False)\n",
    "print(f\"Cleaned data saved to {cleaned_path}\")"
   ]
  }
 ],
 "metadata": {
  "kernelspec": {
   "display_name": ".venv (3.11.9)",
   "language": "python",
   "name": "python3"
  },
  "language_info": {
   "codemirror_mode": {
    "name": "ipython",
    "version": 3
   },
   "file_extension": ".py",
   "mimetype": "text/x-python",
   "name": "python",
   "nbconvert_exporter": "python",
   "pygments_lexer": "ipython3",
   "version": "3.11.9"
  }
 },
 "nbformat": 4,
 "nbformat_minor": 5
}
