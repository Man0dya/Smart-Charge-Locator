{
  "cells": [
    {
      "cell_type": "markdown",
      "metadata": {},
      "source": [
        "# 02 – Clustering Cities by EV Density\n",
        "\n",
        "Objective: Cluster cities using EV density proxy and evaluate with silhouette score.\n",
        "\n",
        "Inputs: `data/processed/city_ev_agg.csv`\n",
        "Outputs: `data/processed/city_clustering.csv` (City, EV_Count_Total, EV_Density_Proxy, Cluster, Silhouette)\n"
      ]
    },
    {
      "cell_type": "code",
      "execution_count": 2,
      "metadata": {},
      "outputs": [],
      "source": [
        "import pandas as pd\n",
        "import numpy as np\n",
        "from sklearn.cluster import KMeans, DBSCAN\n",
        "from sklearn.metrics import silhouette_score\n",
        "from pathlib import Path\n"
      ]
    },
    {
      "cell_type": "code",
      "execution_count": 3,
      "metadata": {},
      "outputs": [
        {
          "name": "stdout",
          "output_type": "stream",
          "text": [
            "Current directory: e:\\FDM\\PROJECT\\NEW\\Smart-Charge-Locator\\notebooks\n",
            "Base directory: e:\\FDM\\PROJECT\\NEW\\Smart-Charge-Locator\n",
            "Input path: e:\\FDM\\PROJECT\\NEW\\Smart-Charge-Locator\\data\\processed\\city_ev_agg.csv\n",
            "Output path: e:\\FDM\\PROJECT\\NEW\\Smart-Charge-Locator\\data\\processed\\city_clustering.csv\n",
            "Input exists: True\n",
            "Output directory exists: True\n"
          ]
        }
      ],
      "source": [
        "# Resolve paths robustly\n",
        "CWD = Path.cwd()\n",
        "# Check if we're in notebooks/ directory or project root\n",
        "if CWD.name == 'notebooks':\n",
        "    # We're in notebooks/ directory, go up one level\n",
        "    BASE_DIR = CWD.parent\n",
        "else:\n",
        "    # We're in project root\n",
        "    BASE_DIR = CWD\n",
        "\n",
        "IN_PATH = BASE_DIR / 'data/processed/city_ev_agg.csv'\n",
        "OUT_PATH = BASE_DIR / 'data/processed/city_clustering.csv'\n",
        "\n",
        "if not IN_PATH.exists():\n",
        "    raise FileNotFoundError(f\"Missing input: {IN_PATH}\")\n",
        "\n",
        "print(f\"Current directory: {CWD}\")\n",
        "print(f\"Base directory: {BASE_DIR}\")\n",
        "print(f\"Input path: {IN_PATH}\")\n",
        "print(f\"Output path: {OUT_PATH}\")\n",
        "print(f\"Input exists: {IN_PATH.exists()}\")\n",
        "print(f\"Output directory exists: {OUT_PATH.parent.exists()}\")\n"
      ]
    },
    {
      "cell_type": "code",
      "execution_count": 4,
      "metadata": {},
      "outputs": [
        {
          "name": "stdout",
          "output_type": "stream",
          "text": [
            "Data shape: (821, 4)\n",
            "Features shape: (821, 1)\n",
            "Sample data:\n"
          ]
        },
        {
          "data": {
            "text/html": [
              "<div>\n",
              "<style scoped>\n",
              "    .dataframe tbody tr th:only-of-type {\n",
              "        vertical-align: middle;\n",
              "    }\n",
              "\n",
              "    .dataframe tbody tr th {\n",
              "        vertical-align: top;\n",
              "    }\n",
              "\n",
              "    .dataframe thead th {\n",
              "        text-align: right;\n",
              "    }\n",
              "</style>\n",
              "<table border=\"1\" class=\"dataframe\">\n",
              "  <thead>\n",
              "    <tr style=\"text-align: right;\">\n",
              "      <th></th>\n",
              "      <th>City</th>\n",
              "      <th>EV_Count_Total</th>\n",
              "      <th>Unique_Zips</th>\n",
              "      <th>EV_Density_Proxy</th>\n",
              "    </tr>\n",
              "  </thead>\n",
              "  <tbody>\n",
              "    <tr>\n",
              "      <th>0</th>\n",
              "      <td>Aberdeen</td>\n",
              "      <td>236</td>\n",
              "      <td>1</td>\n",
              "      <td>236.0</td>\n",
              "    </tr>\n",
              "    <tr>\n",
              "      <th>1</th>\n",
              "      <td>Aberdeen Proving Ground</td>\n",
              "      <td>1</td>\n",
              "      <td>1</td>\n",
              "      <td>1.0</td>\n",
              "    </tr>\n",
              "    <tr>\n",
              "      <th>2</th>\n",
              "      <td>Acme</td>\n",
              "      <td>11</td>\n",
              "      <td>1</td>\n",
              "      <td>11.0</td>\n",
              "    </tr>\n",
              "    <tr>\n",
              "      <th>3</th>\n",
              "      <td>Addy</td>\n",
              "      <td>6</td>\n",
              "      <td>1</td>\n",
              "      <td>6.0</td>\n",
              "    </tr>\n",
              "    <tr>\n",
              "      <th>4</th>\n",
              "      <td>Airway Heights</td>\n",
              "      <td>42</td>\n",
              "      <td>1</td>\n",
              "      <td>42.0</td>\n",
              "    </tr>\n",
              "  </tbody>\n",
              "</table>\n",
              "</div>"
            ],
            "text/plain": [
              "                      City  EV_Count_Total  Unique_Zips  EV_Density_Proxy\n",
              "0                 Aberdeen             236            1             236.0\n",
              "1  Aberdeen Proving Ground               1            1               1.0\n",
              "2                     Acme              11            1              11.0\n",
              "3                     Addy               6            1               6.0\n",
              "4           Airway Heights              42            1              42.0"
            ]
          },
          "execution_count": 4,
          "metadata": {},
          "output_type": "execute_result"
        }
      ],
      "source": [
        "# Load and prepare data\n",
        "city = pd.read_csv(IN_PATH)\n",
        "city = city.dropna(subset=['EV_Density_Proxy'])\n",
        "X = np.log1p(city[['EV_Density_Proxy']].values)\n",
        "\n",
        "print(f\"Data shape: {city.shape}\")\n",
        "print(f\"Features shape: {X.shape}\")\n",
        "print(\"Sample data:\")\n",
        "city.head()\n"
      ]
    },
    {
      "cell_type": "code",
      "execution_count": 5,
      "metadata": {},
      "outputs": [
        {
          "name": "stdout",
          "output_type": "stream",
          "text": [
            "Testing KMeans clustering...\n",
            "  KMeans k=3: Silhouette = 0.721\n",
            "  KMeans k=4: Silhouette = 0.690\n",
            "  KMeans k=5: Silhouette = 0.671\n",
            "  KMeans k=6: Silhouette = 0.717\n"
          ]
        }
      ],
      "source": [
        "# Initialize best clustering results\n",
        "best = {'method': None, 'labels': None, 'score': -1.0}\n",
        "\n",
        "print(\"Testing KMeans clustering...\")\n",
        "# Try KMeans for k in 3..6\n",
        "for k in range(3, 7):\n",
        "    try:\n",
        "        km = KMeans(n_clusters=k, n_init='auto', random_state=42)\n",
        "        labels = km.fit_predict(X)\n",
        "        score = silhouette_score(X, labels) if len(np.unique(labels)) > 1 else -1\n",
        "        print(f\"  KMeans k={k}: Silhouette = {score:.3f}\")\n",
        "        if score > best['score']:\n",
        "            best = {'method': f'KMeans(k={k})', 'labels': labels, 'score': score}\n",
        "    except Exception as e:\n",
        "        print(f'  KMeans k={k} failed:', e)\n"
      ]
    },
    {
      "cell_type": "code",
      "execution_count": 6,
      "metadata": {},
      "outputs": [
        {
          "name": "stdout",
          "output_type": "stream",
          "text": [
            "Testing DBSCAN clustering...\n",
            "  DBSCAN eps=0.1: Silhouette = 0.442\n",
            "  DBSCAN eps=0.2: No valid clusters found\n",
            "  DBSCAN eps=0.3: No valid clusters found\n"
          ]
        }
      ],
      "source": [
        "print(\"Testing DBSCAN clustering...\")\n",
        "# Try DBSCAN with a few eps values\n",
        "for eps in [0.1, 0.2, 0.3]:\n",
        "    try:\n",
        "        db = DBSCAN(eps=eps, min_samples=3)\n",
        "        labels = db.fit_predict(X)\n",
        "        if len(np.unique(labels)) > 1 and np.max(labels) >= 1:  # avoid all noise\n",
        "            score = silhouette_score(X, labels)\n",
        "            print(f\"  DBSCAN eps={eps}: Silhouette = {score:.3f}\")\n",
        "            if score > best['score']:\n",
        "                best = {'method': f'DBSCAN(eps={eps})', 'labels': labels, 'score': score}\n",
        "        else:\n",
        "            print(f\"  DBSCAN eps={eps}: No valid clusters found\")\n",
        "    except Exception as e:\n",
        "        print(f'  DBSCAN eps={eps} failed:', e)\n"
      ]
    },
    {
      "cell_type": "code",
      "execution_count": 7,
      "metadata": {},
      "outputs": [
        {
          "name": "stdout",
          "output_type": "stream",
          "text": [
            "Best clustering method: KMeans(k=3)\n",
            "Best silhouette score: 0.721\n",
            "Cluster distribution:\n",
            "Cluster\n",
            "0    498\n",
            "1    147\n",
            "2    176\n",
            "Name: count, dtype: int64\n"
          ]
        }
      ],
      "source": [
        "# Apply best clustering results\n",
        "city['Cluster'] = best['labels'] if best['labels'] is not None else 0\n",
        "city['Silhouette'] = best['score']\n",
        "city['Method'] = best['method']\n",
        "\n",
        "print(f\"Best clustering method: {best['method']}\")\n",
        "print(f\"Best silhouette score: {best['score']:.3f}\")\n",
        "print(\"Cluster distribution:\")\n",
        "print(city['Cluster'].value_counts().sort_index())\n"
      ]
    },
    {
      "cell_type": "code",
      "execution_count": 8,
      "metadata": {},
      "outputs": [
        {
          "name": "stdout",
          "output_type": "stream",
          "text": [
            "Results saved to: e:\\FDM\\PROJECT\\NEW\\Smart-Charge-Locator\\data\\processed\\city_clustering.csv\n",
            "Final data shape: (821, 7)\n",
            "Sample clustered data:\n"
          ]
        },
        {
          "data": {
            "text/html": [
              "<div>\n",
              "<style scoped>\n",
              "    .dataframe tbody tr th:only-of-type {\n",
              "        vertical-align: middle;\n",
              "    }\n",
              "\n",
              "    .dataframe tbody tr th {\n",
              "        vertical-align: top;\n",
              "    }\n",
              "\n",
              "    .dataframe thead th {\n",
              "        text-align: right;\n",
              "    }\n",
              "</style>\n",
              "<table border=\"1\" class=\"dataframe\">\n",
              "  <thead>\n",
              "    <tr style=\"text-align: right;\">\n",
              "      <th></th>\n",
              "      <th>City</th>\n",
              "      <th>EV_Density_Proxy</th>\n",
              "      <th>Cluster</th>\n",
              "    </tr>\n",
              "  </thead>\n",
              "  <tbody>\n",
              "    <tr>\n",
              "      <th>0</th>\n",
              "      <td>Aberdeen</td>\n",
              "      <td>236.0</td>\n",
              "      <td>1</td>\n",
              "    </tr>\n",
              "    <tr>\n",
              "      <th>1</th>\n",
              "      <td>Aberdeen Proving Ground</td>\n",
              "      <td>1.0</td>\n",
              "      <td>0</td>\n",
              "    </tr>\n",
              "    <tr>\n",
              "      <th>2</th>\n",
              "      <td>Acme</td>\n",
              "      <td>11.0</td>\n",
              "      <td>2</td>\n",
              "    </tr>\n",
              "    <tr>\n",
              "      <th>3</th>\n",
              "      <td>Addy</td>\n",
              "      <td>6.0</td>\n",
              "      <td>0</td>\n",
              "    </tr>\n",
              "    <tr>\n",
              "      <th>4</th>\n",
              "      <td>Airway Heights</td>\n",
              "      <td>42.0</td>\n",
              "      <td>2</td>\n",
              "    </tr>\n",
              "    <tr>\n",
              "      <th>5</th>\n",
              "      <td>Alameda</td>\n",
              "      <td>3.0</td>\n",
              "      <td>0</td>\n",
              "    </tr>\n",
              "    <tr>\n",
              "      <th>6</th>\n",
              "      <td>Alderdale</td>\n",
              "      <td>1.0</td>\n",
              "      <td>0</td>\n",
              "    </tr>\n",
              "    <tr>\n",
              "      <th>7</th>\n",
              "      <td>Alexandria</td>\n",
              "      <td>1.5</td>\n",
              "      <td>0</td>\n",
              "    </tr>\n",
              "    <tr>\n",
              "      <th>8</th>\n",
              "      <td>Algona</td>\n",
              "      <td>48.0</td>\n",
              "      <td>2</td>\n",
              "    </tr>\n",
              "    <tr>\n",
              "      <th>9</th>\n",
              "      <td>Aliso Viejo</td>\n",
              "      <td>1.0</td>\n",
              "      <td>0</td>\n",
              "    </tr>\n",
              "  </tbody>\n",
              "</table>\n",
              "</div>"
            ],
            "text/plain": [
              "                      City  EV_Density_Proxy  Cluster\n",
              "0                 Aberdeen             236.0        1\n",
              "1  Aberdeen Proving Ground               1.0        0\n",
              "2                     Acme              11.0        2\n",
              "3                     Addy               6.0        0\n",
              "4           Airway Heights              42.0        2\n",
              "5                  Alameda               3.0        0\n",
              "6                Alderdale               1.0        0\n",
              "7               Alexandria               1.5        0\n",
              "8                   Algona              48.0        2\n",
              "9              Aliso Viejo               1.0        0"
            ]
          },
          "execution_count": 8,
          "metadata": {},
          "output_type": "execute_result"
        }
      ],
      "source": [
        "# Save results\n",
        "city.to_csv(OUT_PATH, index=False)\n",
        "\n",
        "print(f\"Results saved to: {OUT_PATH}\")\n",
        "print(f\"Final data shape: {city.shape}\")\n",
        "print(\"Sample clustered data:\")\n",
        "city[['City', 'EV_Density_Proxy', 'Cluster']].head(10)\n"
      ]
    }
  ],
  "metadata": {
    "kernelspec": {
      "display_name": ".venv (3.11.9)",
      "language": "python",
      "name": "python3"
    },
    "language_info": {
      "codemirror_mode": {
        "name": "ipython",
        "version": 3
      },
      "file_extension": ".py",
      "mimetype": "text/x-python",
      "name": "python",
      "nbconvert_exporter": "python",
      "pygments_lexer": "ipython3",
      "version": "3.11.9"
    }
  },
  "nbformat": 4,
  "nbformat_minor": 2
}
