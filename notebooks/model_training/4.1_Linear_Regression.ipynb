{
 "cells": [
  {
   "cell_type": "code",
   "execution_count": null,
   "id": "200695e0",
   "metadata": {},
   "outputs": [],
   "source": [
    "# Cell 1: Imports\n",
    "import pandas as pd\n",
    "import pickle\n",
    "from sklearn.pipeline import Pipeline\n",
    "from sklearn.preprocessing import OneHotEncoder\n",
    "from sklearn.compose import ColumnTransformer\n",
    "from sklearn.linear_model import LinearRegression\n",
    "from sklearn.metrics import mean_absolute_error, r2_score\n"
   ]
  },
  {
   "cell_type": "code",
   "execution_count": null,
   "id": "846f07e3",
   "metadata": {},
   "outputs": [],
   "source": [
    "\n",
    "# Cell 2: Load Data\n",
    "df = pd.read_csv('../../data/processed/model_ready_ev_data.csv')\n"
   ]
  },
  {
   "cell_type": "code",
   "execution_count": null,
   "id": "5d7c566f",
   "metadata": {},
   "outputs": [],
   "source": [
    "\n",
    "# Cell 3: Define Features (X) and Target (y) and Split\n",
    "X = df[['Postal Code', 'Model Year', 'Prev_Year_EV_Count', 'Year_Delta']]\n",
    "y = df['EV_Count']\n",
    "X_train, X_test = X[X['Model Year'] <= 2022], X[X['Model Year'] > 2022]\n",
    "y_train, y_test = y.loc[X_train.index], y.loc[X_test.index]\n",
    "\n"
   ]
  },
  {
   "cell_type": "code",
   "execution_count": null,
   "id": "273200b9",
   "metadata": {},
   "outputs": [],
   "source": [
    "# Cell 4: Create Preprocessing and Model Pipeline\n",
    "preprocessor = ColumnTransformer(transformers=[('num', 'passthrough', ['Model Year', 'Prev_Year_EV_Count', 'Year_Delta']), ('cat', OneHotEncoder(handle_unknown='ignore'), ['Postal Code'])])\n",
    "pipeline = Pipeline(steps=[('preprocessor', preprocessor), ('regressor', LinearRegression())])\n",
    "\n"
   ]
  },
  {
   "cell_type": "code",
   "execution_count": null,
   "id": "0c75eaa6",
   "metadata": {},
   "outputs": [],
   "source": [
    "# Cell 5: Train and Evaluate\n",
    "pipeline.fit(X_train, y_train)\n",
    "y_pred = pipeline.predict(X_test)\n",
    "print(f\"--- Linear Regression Evaluation ---\")\n",
    "print(f\"Mean Absolute Error (MAE): {mean_absolute_error(y_test, y_pred):.2f}\")\n",
    "print(f\"R-squared (R2) Score: {r2_score(y_test, y_pred):.2f}\")\n"
   ]
  },
  {
   "cell_type": "code",
   "execution_count": null,
   "id": "b7f53bb7",
   "metadata": {},
   "outputs": [],
   "source": [
    "\n",
    "# Cell 6: Save Model\n",
    "model_path = '../../models/linear_regression.pkl'\n",
    "with open(model_path, 'wb') as file:\n",
    "    pickle.dump(pipeline, file)\n",
    "print(f\"Model saved to: {model_path}\")"
   ]
  }
 ],
 "metadata": {
  "language_info": {
   "name": "python"
  }
 },
 "nbformat": 4,
 "nbformat_minor": 5
}
