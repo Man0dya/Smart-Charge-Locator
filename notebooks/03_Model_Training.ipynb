{
  "cells": [
    {
      "cell_type": "markdown",
      "metadata": {},
      "source": [
        "# 03 – Model Training (City-level EV Count)\n",
        "\n",
        "Objective: Train regression models to predict yearly EV count per city; select best by validation R² and MAE.\n",
        "\n",
        "Inputs: `data/processed/model_ready_city_ev.csv`\n",
        "Outputs: `models/best_model.pkl`, `data/processed/model_eval.csv`\n"
      ]
    },
    {
      "cell_type": "code",
      "execution_count": 2,
      "metadata": {},
      "outputs": [],
      "source": [
        "import pandas as pd\n",
        "import numpy as np\n",
        "from pathlib import Path\n",
        "from sklearn.model_selection import train_test_split\n",
        "from sklearn.linear_model import LinearRegression, Ridge\n",
        "from sklearn.ensemble import RandomForestRegressor\n",
        "from sklearn.metrics import mean_absolute_error, r2_score\n",
        "import joblib\n"
      ]
    },
    {
      "cell_type": "code",
      "execution_count": 3,
      "metadata": {},
      "outputs": [
        {
          "name": "stdout",
          "output_type": "stream",
          "text": [
            "Current directory: e:\\FDM\\PROJECT\\NEW\\Smart-Charge-Locator\\notebooks\n",
            "Base directory: e:\\FDM\\PROJECT\\NEW\\Smart-Charge-Locator\n",
            "Input path: e:\\FDM\\PROJECT\\NEW\\Smart-Charge-Locator\\data\\processed\\model_ready_city_ev.csv\n",
            "Model directory: e:\\FDM\\PROJECT\\NEW\\Smart-Charge-Locator\\models\n",
            "Evaluation output: e:\\FDM\\PROJECT\\NEW\\Smart-Charge-Locator\\data\\processed\\model_eval.csv\n",
            "Input exists: True\n",
            "Model directory exists: True\n"
          ]
        }
      ],
      "source": [
        "# Resolve paths robustly\n",
        "CWD = Path.cwd()\n",
        "# Check if we're in notebooks/ directory or project root\n",
        "if CWD.name == 'notebooks':\n",
        "    # We're in notebooks/ directory, go up one level\n",
        "    BASE_DIR = CWD.parent\n",
        "else:\n",
        "    # We're in project root\n",
        "    BASE_DIR = CWD\n",
        "\n",
        "IN_PATH = BASE_DIR / 'data/processed/model_ready_city_ev.csv'\n",
        "MODEL_DIR = BASE_DIR / 'models'\n",
        "EVAL_OUT = BASE_DIR / 'data/processed/model_eval.csv'\n",
        "\n",
        "if not IN_PATH.exists():\n",
        "    raise FileNotFoundError(f\"Missing input: {IN_PATH}\")\n",
        "\n",
        "MODEL_DIR.mkdir(parents=True, exist_ok=True)\n",
        "\n",
        "print(f\"Current directory: {CWD}\")\n",
        "print(f\"Base directory: {BASE_DIR}\")\n",
        "print(f\"Input path: {IN_PATH}\")\n",
        "print(f\"Model directory: {MODEL_DIR}\")\n",
        "print(f\"Evaluation output: {EVAL_OUT}\")\n",
        "print(f\"Input exists: {IN_PATH.exists()}\")\n",
        "print(f\"Model directory exists: {MODEL_DIR.exists()}\")\n"
      ]
    },
    {
      "cell_type": "code",
      "execution_count": 4,
      "metadata": {},
      "outputs": [
        {
          "name": "stdout",
          "output_type": "stream",
          "text": [
            "Data shape: (5190, 5)\n",
            "Features shape: (5190, 3)\n",
            "Target shape: (5190,)\n",
            "Feature columns: ['Model Year', 'Prev_Year_EV_Count', 'Year_Delta']\n",
            "Sample features:\n"
          ]
        },
        {
          "data": {
            "text/html": [
              "<div>\n",
              "<style scoped>\n",
              "    .dataframe tbody tr th:only-of-type {\n",
              "        vertical-align: middle;\n",
              "    }\n",
              "\n",
              "    .dataframe tbody tr th {\n",
              "        vertical-align: top;\n",
              "    }\n",
              "\n",
              "    .dataframe thead th {\n",
              "        text-align: right;\n",
              "    }\n",
              "</style>\n",
              "<table border=\"1\" class=\"dataframe\">\n",
              "  <thead>\n",
              "    <tr style=\"text-align: right;\">\n",
              "      <th></th>\n",
              "      <th>Model Year</th>\n",
              "      <th>Prev_Year_EV_Count</th>\n",
              "      <th>Year_Delta</th>\n",
              "    </tr>\n",
              "  </thead>\n",
              "  <tbody>\n",
              "    <tr>\n",
              "      <th>0</th>\n",
              "      <td>2011</td>\n",
              "      <td>0.0</td>\n",
              "      <td>11</td>\n",
              "    </tr>\n",
              "    <tr>\n",
              "      <th>1</th>\n",
              "      <td>2013</td>\n",
              "      <td>1.0</td>\n",
              "      <td>13</td>\n",
              "    </tr>\n",
              "    <tr>\n",
              "      <th>2</th>\n",
              "      <td>2014</td>\n",
              "      <td>8.0</td>\n",
              "      <td>14</td>\n",
              "    </tr>\n",
              "    <tr>\n",
              "      <th>3</th>\n",
              "      <td>2015</td>\n",
              "      <td>4.0</td>\n",
              "      <td>15</td>\n",
              "    </tr>\n",
              "    <tr>\n",
              "      <th>4</th>\n",
              "      <td>2016</td>\n",
              "      <td>5.0</td>\n",
              "      <td>16</td>\n",
              "    </tr>\n",
              "  </tbody>\n",
              "</table>\n",
              "</div>"
            ],
            "text/plain": [
              "   Model Year  Prev_Year_EV_Count  Year_Delta\n",
              "0        2011                 0.0          11\n",
              "1        2013                 1.0          13\n",
              "2        2014                 8.0          14\n",
              "3        2015                 4.0          15\n",
              "4        2016                 5.0          16"
            ]
          },
          "execution_count": 4,
          "metadata": {},
          "output_type": "execute_result"
        }
      ],
      "source": [
        "# Load and prepare features\n",
        "df = pd.read_csv(IN_PATH)\n",
        "\n",
        "# Basic feature set\n",
        "X = df[['Model Year','Prev_Year_EV_Count','Year_Delta']].copy()\n",
        "y = df['EV_Count']\n",
        "\n",
        "print(f\"Data shape: {df.shape}\")\n",
        "print(f\"Features shape: {X.shape}\")\n",
        "print(f\"Target shape: {y.shape}\")\n",
        "print(\"Feature columns:\", list(X.columns))\n",
        "print(\"Sample features:\")\n",
        "X.head()\n"
      ]
    },
    {
      "cell_type": "code",
      "execution_count": 5,
      "metadata": {},
      "outputs": [
        {
          "name": "stdout",
          "output_type": "stream",
          "text": [
            "Training set: 4152 samples\n",
            "Test set: 1038 samples\n",
            "Train target range: 1 - 8900\n",
            "Test target range: 1 - 2330\n"
          ]
        }
      ],
      "source": [
        "# Split data into train/test sets\n",
        "X_train, X_test, y_train, y_test = train_test_split(X, y, test_size=0.2, random_state=42)\n",
        "\n",
        "print(f\"Training set: {X_train.shape[0]} samples\")\n",
        "print(f\"Test set: {X_test.shape[0]} samples\")\n",
        "print(f\"Train target range: {y_train.min()} - {y_train.max()}\")\n",
        "print(f\"Test target range: {y_test.min()} - {y_test.max()}\")\n"
      ]
    },
    {
      "cell_type": "code",
      "execution_count": 6,
      "metadata": {},
      "outputs": [
        {
          "name": "stdout",
          "output_type": "stream",
          "text": [
            "Model candidates:\n",
            "  - LinearRegression: LinearRegression\n",
            "  - Ridge: Ridge\n",
            "  - RandomForest: RandomForestRegressor\n"
          ]
        }
      ],
      "source": [
        "# Define model candidates\n",
        "candidates = {\n",
        "    'LinearRegression': LinearRegression(),\n",
        "    'Ridge': Ridge(alpha=1.0),\n",
        "    'RandomForest': RandomForestRegressor(n_estimators=200, random_state=42, n_jobs=-1)\n",
        "}\n",
        "\n",
        "print(\"Model candidates:\")\n",
        "for name, model in candidates.items():\n",
        "    print(f\"  - {name}: {type(model).__name__}\")\n"
      ]
    },
    {
      "cell_type": "code",
      "execution_count": 7,
      "metadata": {},
      "outputs": [
        {
          "name": "stdout",
          "output_type": "stream",
          "text": [
            "Training and evaluating models...\n",
            "  Training LinearRegression...\n",
            "    R² = 0.701, MAE = 25.164\n",
            "  Training Ridge...\n",
            "    R² = 0.701, MAE = 25.164\n",
            "  Training RandomForest...\n",
            "    R² = 0.959, MAE = 9.342\n",
            "\n",
            "Best model: RandomForest\n",
            "Best R²: 0.959\n",
            "Best MAE: 9.342\n"
          ]
        }
      ],
      "source": [
        "# Train and evaluate models\n",
        "records = []\n",
        "best_name, best_model, best_score, best_mae = None, None, -np.inf, np.inf\n",
        "\n",
        "print(\"Training and evaluating models...\")\n",
        "for name, model in candidates.items():\n",
        "    print(f\"  Training {name}...\")\n",
        "    model.fit(X_train, y_train)\n",
        "    pred = model.predict(X_test)\n",
        "    mae = mean_absolute_error(y_test, pred)\n",
        "    r2 = r2_score(y_test, pred)\n",
        "    records.append({'model': name, 'r2': r2, 'mae': mae})\n",
        "    print(f\"    R² = {r2:.3f}, MAE = {mae:.3f}\")\n",
        "    \n",
        "    if r2 > best_score or (r2 == best_score and mae < best_mae):\n",
        "        best_name, best_model, best_score, best_mae = name, model, r2, mae\n",
        "\n",
        "print(f\"\\nBest model: {best_name}\")\n",
        "print(f\"Best R²: {best_score:.3f}\")\n",
        "print(f\"Best MAE: {best_mae:.3f}\")\n"
      ]
    },
    {
      "cell_type": "code",
      "execution_count": 8,
      "metadata": {},
      "outputs": [
        {
          "name": "stdout",
          "output_type": "stream",
          "text": [
            "Results saved:\n",
            "  - Model evaluation: e:\\FDM\\PROJECT\\NEW\\Smart-Charge-Locator\\data\\processed\\model_eval.csv\n",
            "  - Best model: e:\\FDM\\PROJECT\\NEW\\Smart-Charge-Locator\\models\\best_model.pkl\n",
            "\n",
            "Model evaluation results:\n",
            "              model        r2        mae\n",
            "2      RandomForest  0.959353   9.342170\n",
            "1             Ridge  0.701039  25.163649\n",
            "0  LinearRegression  0.701039  25.163656\n"
          ]
        }
      ],
      "source": [
        "# Save results\n",
        "pd.DataFrame(records).to_csv(EVAL_OUT, index=False)\n",
        "joblib.dump(best_model, MODEL_DIR / 'best_model.pkl')\n",
        "\n",
        "print(\"Results saved:\")\n",
        "print(f\"  - Model evaluation: {EVAL_OUT}\")\n",
        "print(f\"  - Best model: {MODEL_DIR / 'best_model.pkl'}\")\n",
        "\n",
        "print(\"\\nModel evaluation results:\")\n",
        "eval_df = pd.DataFrame(records)\n",
        "print(eval_df.sort_values('r2', ascending=False))\n"
      ]
    }
  ],
  "metadata": {
    "kernelspec": {
      "display_name": ".venv (3.11.9)",
      "language": "python",
      "name": "python3"
    },
    "language_info": {
      "codemirror_mode": {
        "name": "ipython",
        "version": 3
      },
      "file_extension": ".py",
      "mimetype": "text/x-python",
      "name": "python",
      "nbconvert_exporter": "python",
      "pygments_lexer": "ipython3",
      "version": "3.11.9"
    }
  },
  "nbformat": 4,
  "nbformat_minor": 2
}
